{
 "cells": [
  {
   "cell_type": "code",
   "execution_count": 2,
   "id": "7517f4a5-8ca4-468e-8842-0234044a7854",
   "metadata": {},
   "outputs": [
    {
     "name": "stdout",
     "output_type": "stream",
     "text": [
      "Solver set: cplex_direct\n"
     ]
    }
   ],
   "source": [
    "# basic imports\n",
    "import pandas as pd\n",
    "import matplotlib.pyplot as plt\n",
    "import numpy as np\n",
    "from unyt import kW, minute, hr, day, MW\n",
    "import sys\n",
    "\n",
    "# osier imports\n",
    "from osier import DispatchModel\n",
    "from osier import CapacityExpansion\n",
    "import osier.tech_library as lib\n",
    "\n",
    "# pymoo imports\n",
    "from pymoo.algorithms.moo.nsga2 import NSGA2\n",
    "from pymoo.optimize import minimize\n",
    "\n",
    "# automatically set the solver\n",
    "if \"darwin\" in sys.platform:\n",
    "    solver = 'cplex_direct'\n",
    "elif \"linux\" in sys.platform:\n",
    "    solver = \"cbc\"\n",
    "else:\n",
    "    solver = \"cbc\"\n",
    "\n",
    "print(f\"Solver set: {solver}\")"
   ]
  },
  {
   "cell_type": "code",
   "execution_count": null,
   "id": "2e852fcf",
   "metadata": {},
   "outputs": [],
   "source": [
    "\n"
   ]
  },
  {
   "cell_type": "code",
   "execution_count": 10,
   "id": "47dc08ec-d8c1-4362-85cb-d5205e3630b5",
   "metadata": {},
   "outputs": [
    {
     "data": {
      "text/plain": [
       "Coal_Conv: 893.0 MW"
      ]
     },
     "metadata": {},
     "output_type": "display_data"
    },
    {
     "data": {
      "text/plain": [
       "[NaturalGas_Conv: 8375.1331 MW, Coal_Conv: 893.0 MW, SolarPanel: 2810.3015 MW]"
      ]
     },
     "metadata": {},
     "output_type": "display_data"
    }
   ],
   "source": [
    "#creating energy mix\n",
    "\n",
    "#based off osier documentation, we need to include geothermal and add the capacity for coal\n",
    "#adding capacity of coal, based on research\n",
    "from osier.tech_library import coal\n",
    "\n",
    "# modify the capacity\n",
    "#https://www.epa.gov/system/files/documents/2023-05/Power%20Sector%20Trends%20TSD.pdf\n",
    "coal.capacity = 893*MW\n",
    "display(coal)\n",
    "\n",
    "#finally, create the necessary energy mix\n",
    "UIUC_mix = [lib.natural_gas,lib.coal,lib.solar]\n",
    "display(UIUC_mix)"
   ]
  },
  {
   "cell_type": "code",
   "execution_count": 11,
   "id": "8e86f213",
   "metadata": {},
   "outputs": [
    {
     "data": {
      "text/html": [
       "<div>\n",
       "<style scoped>\n",
       "    .dataframe tbody tr th:only-of-type {\n",
       "        vertical-align: middle;\n",
       "    }\n",
       "\n",
       "    .dataframe tbody tr th {\n",
       "        vertical-align: top;\n",
       "    }\n",
       "\n",
       "    .dataframe thead th {\n",
       "        text-align: right;\n",
       "    }\n",
       "</style>\n",
       "<table border=\"1\" class=\"dataframe\">\n",
       "  <thead>\n",
       "    <tr style=\"text-align: right;\">\n",
       "      <th></th>\n",
       "      <th>technology_category</th>\n",
       "      <th>technology_type</th>\n",
       "      <th>dispatchable</th>\n",
       "      <th>renewable</th>\n",
       "      <th>fuel_type</th>\n",
       "      <th>ramp_up_rate (1/hr)</th>\n",
       "      <th>ramp_down_rate (1/hr)</th>\n",
       "      <th>lifetime</th>\n",
       "      <th>capacity (MW)</th>\n",
       "      <th>capacity_factor</th>\n",
       "      <th>capacity_credit</th>\n",
       "      <th>efficiency</th>\n",
       "      <th>capital_cost (1/kW)</th>\n",
       "      <th>om_cost_fixed (1/kW)</th>\n",
       "      <th>om_cost_variable (1/(MW*hr))</th>\n",
       "      <th>fuel_cost (1/(MW*hr))</th>\n",
       "      <th>co2_rate (megatonnes/(MW*hr))</th>\n",
       "      <th>lifecycle_co2_rate (megatonnes/(GW*hr))</th>\n",
       "      <th>land_intensity (km/MW**2)</th>\n",
       "      <th>heat_rate</th>\n",
       "    </tr>\n",
       "    <tr>\n",
       "      <th>technology_name</th>\n",
       "      <th></th>\n",
       "      <th></th>\n",
       "      <th></th>\n",
       "      <th></th>\n",
       "      <th></th>\n",
       "      <th></th>\n",
       "      <th></th>\n",
       "      <th></th>\n",
       "      <th></th>\n",
       "      <th></th>\n",
       "      <th></th>\n",
       "      <th></th>\n",
       "      <th></th>\n",
       "      <th></th>\n",
       "      <th></th>\n",
       "      <th></th>\n",
       "      <th></th>\n",
       "      <th></th>\n",
       "      <th></th>\n",
       "      <th></th>\n",
       "    </tr>\n",
       "  </thead>\n",
       "  <tbody>\n",
       "    <tr>\n",
       "      <th>NaturalGas_Conv</th>\n",
       "      <td>thermal</td>\n",
       "      <td>production</td>\n",
       "      <td>True</td>\n",
       "      <td>False</td>\n",
       "      <td>None</td>\n",
       "      <td>1</td>\n",
       "      <td>1</td>\n",
       "      <td>25</td>\n",
       "      <td>8.38e+03</td>\n",
       "      <td>1</td>\n",
       "      <td>1</td>\n",
       "      <td>1</td>\n",
       "      <td>0.00096</td>\n",
       "      <td>1.12e-05</td>\n",
       "      <td>0</td>\n",
       "      <td>2.24e-05</td>\n",
       "      <td>0</td>\n",
       "      <td>0.00049</td>\n",
       "      <td>0</td>\n",
       "      <td>None</td>\n",
       "    </tr>\n",
       "    <tr>\n",
       "      <th>Coal_Conv</th>\n",
       "      <td>thermal</td>\n",
       "      <td>production</td>\n",
       "      <td>True</td>\n",
       "      <td>False</td>\n",
       "      <td>None</td>\n",
       "      <td>0.5</td>\n",
       "      <td>0.5</td>\n",
       "      <td>25</td>\n",
       "      <td>893</td>\n",
       "      <td>1</td>\n",
       "      <td>1</td>\n",
       "      <td>1</td>\n",
       "      <td>0.001</td>\n",
       "      <td>4.07e-05</td>\n",
       "      <td>0</td>\n",
       "      <td>2.14e-05</td>\n",
       "      <td>0</td>\n",
       "      <td>0.001</td>\n",
       "      <td>0</td>\n",
       "      <td>None</td>\n",
       "    </tr>\n",
       "    <tr>\n",
       "      <th>SolarPanel</th>\n",
       "      <td>base</td>\n",
       "      <td>production</td>\n",
       "      <td>False</td>\n",
       "      <td>True</td>\n",
       "      <td>solar</td>\n",
       "      <td>NaN</td>\n",
       "      <td>NaN</td>\n",
       "      <td>25</td>\n",
       "      <td>2.81e+03</td>\n",
       "      <td>1</td>\n",
       "      <td>0.19</td>\n",
       "      <td>1</td>\n",
       "      <td>0.000673</td>\n",
       "      <td>8.05e-06</td>\n",
       "      <td>0</td>\n",
       "      <td>0</td>\n",
       "      <td>0</td>\n",
       "      <td>3.7e-05</td>\n",
       "      <td>0</td>\n",
       "      <td>NaN</td>\n",
       "    </tr>\n",
       "  </tbody>\n",
       "</table>\n",
       "</div>"
      ],
      "text/plain": [
       "                technology_category technology_type dispatchable renewable  \\\n",
       "technology_name                                                              \n",
       "NaturalGas_Conv             thermal      production         True     False   \n",
       "Coal_Conv                   thermal      production         True     False   \n",
       "SolarPanel                     base      production        False      True   \n",
       "\n",
       "                fuel_type ramp_up_rate (1/hr) ramp_down_rate (1/hr) lifetime  \\\n",
       "technology_name                                                                \n",
       "NaturalGas_Conv      None                   1                     1       25   \n",
       "Coal_Conv            None                 0.5                   0.5       25   \n",
       "SolarPanel          solar                 NaN                   NaN       25   \n",
       "\n",
       "                capacity (MW) capacity_factor capacity_credit efficiency  \\\n",
       "technology_name                                                            \n",
       "NaturalGas_Conv      8.38e+03               1               1          1   \n",
       "Coal_Conv                 893               1               1          1   \n",
       "SolarPanel           2.81e+03               1            0.19          1   \n",
       "\n",
       "                capital_cost (1/kW) om_cost_fixed (1/kW)  \\\n",
       "technology_name                                            \n",
       "NaturalGas_Conv             0.00096             1.12e-05   \n",
       "Coal_Conv                     0.001             4.07e-05   \n",
       "SolarPanel                 0.000673             8.05e-06   \n",
       "\n",
       "                om_cost_variable (1/(MW*hr)) fuel_cost (1/(MW*hr))  \\\n",
       "technology_name                                                      \n",
       "NaturalGas_Conv                            0              2.24e-05   \n",
       "Coal_Conv                                  0              2.14e-05   \n",
       "SolarPanel                                 0                     0   \n",
       "\n",
       "                co2_rate (megatonnes/(MW*hr))  \\\n",
       "technology_name                                 \n",
       "NaturalGas_Conv                             0   \n",
       "Coal_Conv                                   0   \n",
       "SolarPanel                                  0   \n",
       "\n",
       "                lifecycle_co2_rate (megatonnes/(GW*hr))  \\\n",
       "technology_name                                           \n",
       "NaturalGas_Conv                                 0.00049   \n",
       "Coal_Conv                                         0.001   \n",
       "SolarPanel                                      3.7e-05   \n",
       "\n",
       "                land_intensity (km/MW**2) heat_rate  \n",
       "technology_name                                      \n",
       "NaturalGas_Conv                         0      None  \n",
       "Coal_Conv                               0      None  \n",
       "SolarPanel                              0       NaN  "
      ]
     },
     "execution_count": 11,
     "metadata": {},
     "output_type": "execute_result"
    }
   ],
   "source": [
    "from osier.utils import technology_dataframe\n",
    "\n",
    "technology_dataframe(UIUC_mix)"
   ]
  },
  {
   "cell_type": "code",
   "execution_count": 13,
   "id": "95d92a97-1ecc-448d-8a3f-ffaf8119015f",
   "metadata": {},
   "outputs": [
    {
     "data": {
      "image/png": "[encoded data removed]",
      "text/plain": [
       "<Figure size 640x480 with 1 Axes>"
      ]
     },
     "metadata": {},
     "output_type": "display_data"
    }
   ],
   "source": [
    "n_hours = 24  # hours per day\n",
    "n_days = 1  # days to model\n",
    "N = n_hours*n_days  # total number of time steps\n",
    "phase_shift = 0  # horizontal shift [radians]\n",
    "base_shift = 2  # vertical shift [units of demand]\n",
    "hours = np.linspace(0,N,N)\n",
    "total_demand = 328.16  # [MWh], sets the total demand [units of energy]\n",
    "\n",
    "demand = (np.sin((hours*np.pi/n_hours*2+phase_shift))*-1+np.ones(N)*(base_shift+1))\n",
    "\n",
    "np.random.seed(1234) # sets the seed for repeatability\n",
    "\n",
    "noise = np.random.random(N)\n",
    "demand += noise\n",
    "\n",
    "demand = demand/demand.sum() * total_demand  # rescale\n",
    "\n",
    "with plt.style.context(\"dark_background\"):\n",
    "    plt.plot(hours, demand, color='cyan')\n",
    "    plt.ylabel('Demand [MW]')\n",
    "    plt.grid(alpha=0.2)\n",
    "    plt.show()"
   ]
  },
  {
   "cell_type": "code",
   "execution_count": 14,
   "id": "20307dd7-eda6-4e60-851d-d878cbeb37f3",
   "metadata": {},
   "outputs": [
    {
     "data": {
      "image/png": "[encoded data removed]",
      "text/plain": [
       "<Figure size 640x480 with 1 Axes>"
      ]
     },
     "metadata": {},
     "output_type": "display_data"
    }
   ],
   "source": [
    "url = \"https://raw.githubusercontent.com/samgdotson/2021-dotson-ms/refs/heads/master/data/solarfarm_data.csv\"\n",
    "solar_power = pd.read_csv(url, usecols=['time', 'kw'], parse_dates=True, index_col='time')\n",
    "\n",
    "# choose a single day\n",
    "solar_day = solar_power.loc['2016-07-01']\n",
    "solar_day.plot();plt.show()\n",
    "solar_day_ener = [0,0,0,0,0,22.15,\n",
    "                  223.25,1052.75,2368.25,3433,3406.75,4161.75,\n",
    "                  3634.5,4030.25,3545,3090,3165.75,1637.75,\n",
    "                  940,273.25,18.0475,0,0,0]\n",
    "df_solar = pd.DataFrame(solar_day_ener, columns=['Energy'])"
   ]
  },
  {
   "cell_type": "code",
   "execution_count": 15,
   "id": "1656c822-24eb-4f45-85e6-6646e15bff77",
   "metadata": {},
   "outputs": [
    {
     "data": {
      "image/png": "[encoded data removed]",
      "text/plain": [
       "<Figure size 640x480 with 1 Axes>"
      ]
     },
     "metadata": {},
     "output_type": "display_data"
    }
   ],
   "source": [
    "#normalizing solar data\n",
    "norm_solar_data = solar_day/solar_day.max()\n",
    "norm_solar_data.plot();plt.show()"
   ]
  },
  {
   "cell_type": "code",
   "execution_count": 16,
   "id": "1d913c81",
   "metadata": {},
   "outputs": [
    {
     "data": {
      "text/plain": [
       "array([   0.    ,    0.    ,    0.    ,    0.    ,    0.    ,   22.15  ,\n",
       "        223.25  , 1052.75  , 2368.25  , 3433.    , 3406.75  , 4161.75  ,\n",
       "       3634.5   , 4030.25  , 3545.    , 3090.    , 3165.75  , 1637.75  ,\n",
       "        940.    ,  273.25  ,   18.0475,    0.    ,    0.    ,    0.    ])"
      ]
     },
     "execution_count": 16,
     "metadata": {},
     "output_type": "execute_result"
    }
   ],
   "source": [
    "solar_ener = df_solar['Energy'].values\n",
    "solar_ener"
   ]
  },
  {
   "cell_type": "code",
   "execution_count": 17,
   "id": "08305385-dd32-4baf-a3eb-218164b55fcc",
   "metadata": {},
   "outputs": [],
   "source": [
    "from osier import total_cost\n",
    "problem = CapacityExpansion(technology_list = UIUC_mix,\n",
    "                            demand=demand*MW,\n",
    "                            solar=solar_ener,\n",
    "                            upper_bound= 1 / lib.solar.capacity_credit,\n",
    "                            objectives = [total_cost],\n",
    "                            solver=solver)  # the objectives must be passed as a LIST of functions!"
   ]
  },
  {
   "cell_type": "code",
   "execution_count": 18,
   "id": "4b0fdc70-d7ed-4bfe-9d9f-72a468106251",
   "metadata": {},
   "outputs": [
    {
     "name": "stdout",
     "output_type": "stream",
     "text": [
      "==========================================================\n",
      "n_gen  |  n_eval  | n_nds  |      eps      |   indicator  \n",
      "==========================================================\n",
      "     1 |       20 |      1 |             - |             -\n",
      "     2 |       40 |      1 |  0.000000E+00 |             f\n",
      "     3 |       60 |      1 |  0.4087241771 |         ideal\n",
      "     4 |       80 |      1 |  0.3040092088 |         ideal\n",
      "     5 |      100 |      1 |  0.1660787453 |         ideal\n",
      "     6 |      120 |      1 |  0.2527924536 |         ideal\n",
      "     7 |      140 |      1 |  0.0547533158 |         ideal\n",
      "     8 |      160 |      1 |  0.0933084804 |         ideal\n",
      "     9 |      180 |      1 |  0.0881910857 |         ideal\n",
      "    10 |      200 |      1 |  0.0886047265 |         ideal\n",
      "The simulation took 4.793 minutes.\n"
     ]
    }
   ],
   "source": [
    "algorithm = NSGA2(pop_size=20)\n",
    "\n",
    "import time\n",
    "start = time.perf_counter()\n",
    "res = minimize(problem,\n",
    "               algorithm,\n",
    "               termination=('n_gen', 10),\n",
    "               seed=1,\n",
    "               save_history=True,\n",
    "               verbose=True)\n",
    "end = time.perf_counter()\n",
    "print(f\"The simulation took {(end-start)/60:.3f} minutes.\")"
   ]
  },
  {
   "cell_type": "code",
   "execution_count": 19,
   "id": "dcc8a3cc-139f-4454-b580-f84d7addc61e",
   "metadata": {},
   "outputs": [
    {
     "data": {
      "text/plain": [
       "[NaturalGas_Conv: 19.748551680068616 MW,\n",
       " Coal_Conv: 0.1394501296646982 MW,\n",
       " SolarPanel: 0.7090482705670523 MW]"
      ]
     },
     "metadata": {},
     "output_type": "display_data"
    },
    {
     "data": {
      "text/plain": [
       "'Max solar production: 0.7090482705670523 MW'"
      ]
     },
     "metadata": {},
     "output_type": "display_data"
    },
    {
     "data": {
      "text/html": [
       "<div>\n",
       "<style scoped>\n",
       "    .dataframe tbody tr th:only-of-type {\n",
       "        vertical-align: middle;\n",
       "    }\n",
       "\n",
       "    .dataframe tbody tr th {\n",
       "        vertical-align: top;\n",
       "    }\n",
       "\n",
       "    .dataframe thead th {\n",
       "        text-align: right;\n",
       "    }\n",
       "</style>\n",
       "<table border=\"1\" class=\"dataframe\">\n",
       "  <thead>\n",
       "    <tr style=\"text-align: right;\">\n",
       "      <th></th>\n",
       "      <th>NaturalGas_Conv</th>\n",
       "      <th>Coal_Conv</th>\n",
       "      <th>Curtailment</th>\n",
       "      <th>Cost</th>\n",
       "    </tr>\n",
       "  </thead>\n",
       "  <tbody>\n",
       "    <tr>\n",
       "      <th>0</th>\n",
       "      <td>12.213324</td>\n",
       "      <td>0.13945</td>\n",
       "      <td>-0.0</td>\n",
       "      <td>0.000276</td>\n",
       "    </tr>\n",
       "    <tr>\n",
       "      <th>1</th>\n",
       "      <td>12.835672</td>\n",
       "      <td>0.13945</td>\n",
       "      <td>-0.0</td>\n",
       "      <td>0.00029</td>\n",
       "    </tr>\n",
       "    <tr>\n",
       "      <th>2</th>\n",
       "      <td>11.155224</td>\n",
       "      <td>0.13945</td>\n",
       "      <td>-0.0</td>\n",
       "      <td>0.000253</td>\n",
       "    </tr>\n",
       "    <tr>\n",
       "      <th>3</th>\n",
       "      <td>11.683078</td>\n",
       "      <td>0.13945</td>\n",
       "      <td>-0.0</td>\n",
       "      <td>0.000265</td>\n",
       "    </tr>\n",
       "    <tr>\n",
       "      <th>4</th>\n",
       "      <td>11.054385</td>\n",
       "      <td>0.13945</td>\n",
       "      <td>-0.0</td>\n",
       "      <td>0.00025</td>\n",
       "    </tr>\n",
       "    <tr>\n",
       "      <th>5</th>\n",
       "      <td>8.733800</td>\n",
       "      <td>0.13945</td>\n",
       "      <td>-0.0</td>\n",
       "      <td>0.000199</td>\n",
       "    </tr>\n",
       "    <tr>\n",
       "      <th>6</th>\n",
       "      <td>8.642591</td>\n",
       "      <td>0.13945</td>\n",
       "      <td>-0.0</td>\n",
       "      <td>0.000196</td>\n",
       "    </tr>\n",
       "    <tr>\n",
       "      <th>7</th>\n",
       "      <td>10.749314</td>\n",
       "      <td>0.13945</td>\n",
       "      <td>-0.0</td>\n",
       "      <td>0.000244</td>\n",
       "    </tr>\n",
       "    <tr>\n",
       "      <th>8</th>\n",
       "      <td>11.614960</td>\n",
       "      <td>0.13945</td>\n",
       "      <td>-0.0</td>\n",
       "      <td>0.000263</td>\n",
       "    </tr>\n",
       "    <tr>\n",
       "      <th>9</th>\n",
       "      <td>11.834830</td>\n",
       "      <td>0.13945</td>\n",
       "      <td>-0.0</td>\n",
       "      <td>0.000268</td>\n",
       "    </tr>\n",
       "    <tr>\n",
       "      <th>10</th>\n",
       "      <td>10.734552</td>\n",
       "      <td>0.13945</td>\n",
       "      <td>-0.0</td>\n",
       "      <td>0.000243</td>\n",
       "    </tr>\n",
       "    <tr>\n",
       "      <th>11</th>\n",
       "      <td>12.175069</td>\n",
       "      <td>0.13945</td>\n",
       "      <td>-0.0</td>\n",
       "      <td>0.000276</td>\n",
       "    </tr>\n",
       "    <tr>\n",
       "      <th>12</th>\n",
       "      <td>14.025205</td>\n",
       "      <td>0.13945</td>\n",
       "      <td>-0.0</td>\n",
       "      <td>0.000317</td>\n",
       "    </tr>\n",
       "    <tr>\n",
       "      <th>13</th>\n",
       "      <td>15.085928</td>\n",
       "      <td>0.13945</td>\n",
       "      <td>-0.0</td>\n",
       "      <td>0.000341</td>\n",
       "    </tr>\n",
       "    <tr>\n",
       "      <th>14</th>\n",
       "      <td>14.743758</td>\n",
       "      <td>0.13945</td>\n",
       "      <td>-0.0</td>\n",
       "      <td>0.000333</td>\n",
       "    </tr>\n",
       "    <tr>\n",
       "      <th>15</th>\n",
       "      <td>16.279788</td>\n",
       "      <td>0.13945</td>\n",
       "      <td>-0.0</td>\n",
       "      <td>0.000367</td>\n",
       "    </tr>\n",
       "    <tr>\n",
       "      <th>16</th>\n",
       "      <td>16.526895</td>\n",
       "      <td>0.13945</td>\n",
       "      <td>-0.0</td>\n",
       "      <td>0.000373</td>\n",
       "    </tr>\n",
       "    <tr>\n",
       "      <th>17</th>\n",
       "      <td>15.107788</td>\n",
       "      <td>0.13945</td>\n",
       "      <td>-0.0</td>\n",
       "      <td>0.000341</td>\n",
       "    </tr>\n",
       "    <tr>\n",
       "      <th>18</th>\n",
       "      <td>18.092668</td>\n",
       "      <td>0.13945</td>\n",
       "      <td>-0.0</td>\n",
       "      <td>0.000408</td>\n",
       "    </tr>\n",
       "    <tr>\n",
       "      <th>19</th>\n",
       "      <td>18.278316</td>\n",
       "      <td>0.13945</td>\n",
       "      <td>-0.0</td>\n",
       "      <td>0.000412</td>\n",
       "    </tr>\n",
       "    <tr>\n",
       "      <th>20</th>\n",
       "      <td>15.709965</td>\n",
       "      <td>0.13945</td>\n",
       "      <td>-0.0</td>\n",
       "      <td>0.000355</td>\n",
       "    </tr>\n",
       "    <tr>\n",
       "      <th>21</th>\n",
       "      <td>15.864988</td>\n",
       "      <td>0.13945</td>\n",
       "      <td>-0.0</td>\n",
       "      <td>0.000358</td>\n",
       "    </tr>\n",
       "    <tr>\n",
       "      <th>22</th>\n",
       "      <td>12.808060</td>\n",
       "      <td>0.13945</td>\n",
       "      <td>-0.0</td>\n",
       "      <td>0.00029</td>\n",
       "    </tr>\n",
       "    <tr>\n",
       "      <th>23</th>\n",
       "      <td>12.899581</td>\n",
       "      <td>0.13945</td>\n",
       "      <td>-0.0</td>\n",
       "      <td>0.000292</td>\n",
       "    </tr>\n",
       "  </tbody>\n",
       "</table>\n",
       "</div>"
      ],
      "text/plain": [
       "    NaturalGas_Conv  Coal_Conv  Curtailment      Cost\n",
       "0         12.213324    0.13945         -0.0  0.000276\n",
       "1         12.835672    0.13945         -0.0   0.00029\n",
       "2         11.155224    0.13945         -0.0  0.000253\n",
       "3         11.683078    0.13945         -0.0  0.000265\n",
       "4         11.054385    0.13945         -0.0   0.00025\n",
       "5          8.733800    0.13945         -0.0  0.000199\n",
       "6          8.642591    0.13945         -0.0  0.000196\n",
       "7         10.749314    0.13945         -0.0  0.000244\n",
       "8         11.614960    0.13945         -0.0  0.000263\n",
       "9         11.834830    0.13945         -0.0  0.000268\n",
       "10        10.734552    0.13945         -0.0  0.000243\n",
       "11        12.175069    0.13945         -0.0  0.000276\n",
       "12        14.025205    0.13945         -0.0  0.000317\n",
       "13        15.085928    0.13945         -0.0  0.000341\n",
       "14        14.743758    0.13945         -0.0  0.000333\n",
       "15        16.279788    0.13945         -0.0  0.000367\n",
       "16        16.526895    0.13945         -0.0  0.000373\n",
       "17        15.107788    0.13945         -0.0  0.000341\n",
       "18        18.092668    0.13945         -0.0  0.000408\n",
       "19        18.278316    0.13945         -0.0  0.000412\n",
       "20        15.709965    0.13945         -0.0  0.000355\n",
       "21        15.864988    0.13945         -0.0  0.000358\n",
       "22        12.808060    0.13945         -0.0   0.00029\n",
       "23        12.899581    0.13945         -0.0  0.000292"
      ]
     },
     "execution_count": 19,
     "metadata": {},
     "output_type": "execute_result"
    }
   ],
   "source": [
    "technologies = []\n",
    "for X,tech in zip(res.X,problem.technology_list):\n",
    "    tech.capacity = X*problem.max_demand\n",
    "    technologies.append(tech)\n",
    "display(technologies)\n",
    "# normalize the solar energy array\n",
    "solar_ener = (solar_ener / solar_ener.max()) * res.X[2]*problem.max_demand\n",
    "net_dem = demand*MW - solar_ener\n",
    "display(f\"Max solar production: {solar_ener.max()}\")\n",
    "\n",
    "model = DispatchModel(technology_list=[technologies[0],technologies[1]],\n",
    "                      net_demand=net_dem)\n",
    "model.solve(solver=solver)\n",
    "model.results"
   ]
  },
  {
   "cell_type": "code",
   "execution_count": 28,
   "id": "33d69c61",
   "metadata": {},
   "outputs": [
    {
     "name": "stdout",
     "output_type": "stream",
     "text": [
      "[1.06955207 0.00755241 0.038401  ]\n",
      "18.46432006972341 MW\n",
      "0.7090482705670523 MW\n"
     ]
    },
    {
     "data": {
      "text/plain": [
       "(None, None, None)"
      ]
     },
     "execution_count": 28,
     "metadata": {},
     "output_type": "execute_result"
    }
   ],
   "source": [
    "print(res.X),print(problem.max_demand),print(tech.capacity)"
   ]
  },
  {
   "cell_type": "code",
   "execution_count": 20,
   "id": "ae7ed7d7",
   "metadata": {},
   "outputs": [
    {
     "ename": "ValueError",
     "evalue": "Dimensions of labels and X must be compatible",
     "output_type": "error",
     "traceback": [
      "\u001b[0;31m---------------------------------------------------------------------------\u001b[0m",
      "\u001b[0;31mValueError\u001b[0m                                Traceback (most recent call last)",
      "\u001b[1;32m/Users/cesarzambrano/2025-ans-abstract-ceser/notebooks/UIUC ENERGY MIX.ipynb Cell 11\u001b[0m line \u001b[0;36m5\n\u001b[1;32m      <a href='vscode-notebook-cell:/Users/cesarzambrano/2025-ans-abstract-ceser/notebooks/UIUC%20ENERGY%20MIX.ipynb#X12sZmlsZQ%3D%3D?line=1'>2</a>\u001b[0m \u001b[39mwith\u001b[39;00m plt\u001b[39m.\u001b[39mstyle\u001b[39m.\u001b[39mcontext(\u001b[39m'\u001b[39m\u001b[39mdark_background\u001b[39m\u001b[39m'\u001b[39m):\n\u001b[1;32m      <a href='vscode-notebook-cell:/Users/cesarzambrano/2025-ans-abstract-ceser/notebooks/UIUC%20ENERGY%20MIX.ipynb#X12sZmlsZQ%3D%3D?line=2'>3</a>\u001b[0m     fig, ax \u001b[39m=\u001b[39m plt\u001b[39m.\u001b[39msubplots(\u001b[39m1\u001b[39m,\u001b[39m1\u001b[39m,figsize\u001b[39m=\u001b[39m(\u001b[39m6\u001b[39m,\u001b[39m4\u001b[39m))\n\u001b[0;32m----> <a href='vscode-notebook-cell:/Users/cesarzambrano/2025-ans-abstract-ceser/notebooks/UIUC%20ENERGY%20MIX.ipynb#X12sZmlsZQ%3D%3D?line=4'>5</a>\u001b[0m     bplot \u001b[39m=\u001b[39m ax\u001b[39m.\u001b[39;49mboxplot(res\u001b[39m.\u001b[39;49mX,\n\u001b[1;32m      <a href='vscode-notebook-cell:/Users/cesarzambrano/2025-ans-abstract-ceser/notebooks/UIUC%20ENERGY%20MIX.ipynb#X12sZmlsZQ%3D%3D?line=5'>6</a>\u001b[0m                        patch_artist\u001b[39m=\u001b[39;49m\u001b[39mTrue\u001b[39;49;00m,\n\u001b[1;32m      <a href='vscode-notebook-cell:/Users/cesarzambrano/2025-ans-abstract-ceser/notebooks/UIUC%20ENERGY%20MIX.ipynb#X12sZmlsZQ%3D%3D?line=6'>7</a>\u001b[0m                        tick_labels\u001b[39m=\u001b[39;49mget_tech_names(problem\u001b[39m.\u001b[39;49mtechnology_list))\n\u001b[1;32m      <a href='vscode-notebook-cell:/Users/cesarzambrano/2025-ans-abstract-ceser/notebooks/UIUC%20ENERGY%20MIX.ipynb#X12sZmlsZQ%3D%3D?line=7'>8</a>\u001b[0m     ax\u001b[39m.\u001b[39mset_ylabel(\u001b[39m\"\u001b[39m\u001b[39mFraction of Peak Demand\u001b[39m\u001b[39m\"\u001b[39m)\n\u001b[1;32m     <a href='vscode-notebook-cell:/Users/cesarzambrano/2025-ans-abstract-ceser/notebooks/UIUC%20ENERGY%20MIX.ipynb#X12sZmlsZQ%3D%3D?line=9'>10</a>\u001b[0m     \u001b[39m# fill with colors\u001b[39;00m\n",
      "File \u001b[0;32m/opt/anaconda3/envs/osier_new/lib/python3.10/site-packages/matplotlib/__init__.py:1473\u001b[0m, in \u001b[0;36m_preprocess_data.<locals>.inner\u001b[0;34m(ax, data, *args, **kwargs)\u001b[0m\n\u001b[1;32m   1470\u001b[0m \u001b[39m@functools\u001b[39m\u001b[39m.\u001b[39mwraps(func)\n\u001b[1;32m   1471\u001b[0m \u001b[39mdef\u001b[39;00m \u001b[39minner\u001b[39m(ax, \u001b[39m*\u001b[39margs, data\u001b[39m=\u001b[39m\u001b[39mNone\u001b[39;00m, \u001b[39m*\u001b[39m\u001b[39m*\u001b[39mkwargs):\n\u001b[1;32m   1472\u001b[0m     \u001b[39mif\u001b[39;00m data \u001b[39mis\u001b[39;00m \u001b[39mNone\u001b[39;00m:\n\u001b[0;32m-> 1473\u001b[0m         \u001b[39mreturn\u001b[39;00m func(\n\u001b[1;32m   1474\u001b[0m             ax,\n\u001b[1;32m   1475\u001b[0m             \u001b[39m*\u001b[39m\u001b[39mmap\u001b[39m(sanitize_sequence, args),\n\u001b[1;32m   1476\u001b[0m             \u001b[39m*\u001b[39m\u001b[39m*\u001b[39m{k: sanitize_sequence(v) \u001b[39mfor\u001b[39;00m k, v \u001b[39min\u001b[39;00m kwargs\u001b[39m.\u001b[39mitems()})\n\u001b[1;32m   1478\u001b[0m     bound \u001b[39m=\u001b[39m new_sig\u001b[39m.\u001b[39mbind(ax, \u001b[39m*\u001b[39margs, \u001b[39m*\u001b[39m\u001b[39m*\u001b[39mkwargs)\n\u001b[1;32m   1479\u001b[0m     auto_label \u001b[39m=\u001b[39m (bound\u001b[39m.\u001b[39marguments\u001b[39m.\u001b[39mget(label_namer)\n\u001b[1;32m   1480\u001b[0m                   \u001b[39mor\u001b[39;00m bound\u001b[39m.\u001b[39mkwargs\u001b[39m.\u001b[39mget(label_namer))\n",
      "File \u001b[0;32m/opt/anaconda3/envs/osier_new/lib/python3.10/site-packages/matplotlib/_api/deprecation.py:300\u001b[0m, in \u001b[0;36mrename_parameter.<locals>.wrapper\u001b[0;34m(*args, **kwargs)\u001b[0m\n\u001b[1;32m    295\u001b[0m     warn_deprecated(\n\u001b[1;32m    296\u001b[0m         since, message\u001b[39m=\u001b[39m\u001b[39mf\u001b[39m\u001b[39m\"\u001b[39m\u001b[39mThe \u001b[39m\u001b[39m{\u001b[39;00mold\u001b[39m!r}\u001b[39;00m\u001b[39m parameter of \u001b[39m\u001b[39m{\u001b[39;00mfunc\u001b[39m.\u001b[39m\u001b[39m__name__\u001b[39m\u001b[39m}\u001b[39;00m\u001b[39m() \u001b[39m\u001b[39m\"\u001b[39m\n\u001b[1;32m    297\u001b[0m         \u001b[39mf\u001b[39m\u001b[39m\"\u001b[39m\u001b[39mhas been renamed \u001b[39m\u001b[39m{\u001b[39;00mnew\u001b[39m!r}\u001b[39;00m\u001b[39m since Matplotlib \u001b[39m\u001b[39m{\u001b[39;00msince\u001b[39m}\u001b[39;00m\u001b[39m; support \u001b[39m\u001b[39m\"\u001b[39m\n\u001b[1;32m    298\u001b[0m         \u001b[39mf\u001b[39m\u001b[39m\"\u001b[39m\u001b[39mfor the old name will be dropped %(removal)s.\u001b[39m\u001b[39m\"\u001b[39m)\n\u001b[1;32m    299\u001b[0m     kwargs[new] \u001b[39m=\u001b[39m kwargs\u001b[39m.\u001b[39mpop(old)\n\u001b[0;32m--> 300\u001b[0m \u001b[39mreturn\u001b[39;00m func(\u001b[39m*\u001b[39;49margs, \u001b[39m*\u001b[39;49m\u001b[39m*\u001b[39;49mkwargs)\n",
      "File \u001b[0;32m/opt/anaconda3/envs/osier_new/lib/python3.10/site-packages/matplotlib/axes/_axes.py:4039\u001b[0m, in \u001b[0;36mAxes.boxplot\u001b[0;34m(self, x, notch, sym, vert, whis, positions, widths, patch_artist, bootstrap, usermedians, conf_intervals, meanline, showmeans, showcaps, showbox, showfliers, boxprops, tick_labels, flierprops, medianprops, meanprops, capprops, whiskerprops, manage_ticks, autorange, zorder, capwidths, label)\u001b[0m\n\u001b[1;32m   4036\u001b[0m \u001b[39mif\u001b[39;00m bootstrap \u001b[39mis\u001b[39;00m \u001b[39mNone\u001b[39;00m:\n\u001b[1;32m   4037\u001b[0m     bootstrap \u001b[39m=\u001b[39m mpl\u001b[39m.\u001b[39mrcParams[\u001b[39m'\u001b[39m\u001b[39mboxplot.bootstrap\u001b[39m\u001b[39m'\u001b[39m]\n\u001b[0;32m-> 4039\u001b[0m bxpstats \u001b[39m=\u001b[39m cbook\u001b[39m.\u001b[39;49mboxplot_stats(x, whis\u001b[39m=\u001b[39;49mwhis, bootstrap\u001b[39m=\u001b[39;49mbootstrap,\n\u001b[1;32m   4040\u001b[0m                                labels\u001b[39m=\u001b[39;49mtick_labels, autorange\u001b[39m=\u001b[39;49mautorange)\n\u001b[1;32m   4041\u001b[0m \u001b[39mif\u001b[39;00m notch \u001b[39mis\u001b[39;00m \u001b[39mNone\u001b[39;00m:\n\u001b[1;32m   4042\u001b[0m     notch \u001b[39m=\u001b[39m mpl\u001b[39m.\u001b[39mrcParams[\u001b[39m'\u001b[39m\u001b[39mboxplot.notch\u001b[39m\u001b[39m'\u001b[39m]\n",
      "File \u001b[0;32m/opt/anaconda3/envs/osier_new/lib/python3.10/site-packages/matplotlib/cbook.py:1260\u001b[0m, in \u001b[0;36mboxplot_stats\u001b[0;34m(X, whis, bootstrap, labels, autorange)\u001b[0m\n\u001b[1;32m   1258\u001b[0m     labels \u001b[39m=\u001b[39m itertools\u001b[39m.\u001b[39mrepeat(\u001b[39mNone\u001b[39;00m)\n\u001b[1;32m   1259\u001b[0m \u001b[39melif\u001b[39;00m \u001b[39mlen\u001b[39m(labels) \u001b[39m!=\u001b[39m ncols:\n\u001b[0;32m-> 1260\u001b[0m     \u001b[39mraise\u001b[39;00m \u001b[39mValueError\u001b[39;00m(\u001b[39m\"\u001b[39m\u001b[39mDimensions of labels and X must be compatible\u001b[39m\u001b[39m\"\u001b[39m)\n\u001b[1;32m   1262\u001b[0m input_whis \u001b[39m=\u001b[39m whis\n\u001b[1;32m   1263\u001b[0m \u001b[39mfor\u001b[39;00m ii, (x, label) \u001b[39min\u001b[39;00m \u001b[39menumerate\u001b[39m(\u001b[39mzip\u001b[39m(X, labels)):\n\u001b[1;32m   1264\u001b[0m \n\u001b[1;32m   1265\u001b[0m     \u001b[39m# empty dict\u001b[39;00m\n",
      "\u001b[0;31mValueError\u001b[0m: Dimensions of labels and X must be compatible"
     ]
    }
   ],
   "source": [
    "from osier import get_tech_names\n",
    "with plt.style.context('dark_background'):\n",
    "    fig, ax = plt.subplots(1,1,figsize=(6,4))\n",
    "\n",
    "    bplot = ax.boxplot(res.X,\n",
    "                       patch_artist=True,\n",
    "                       tick_labels=get_tech_names(problem.technology_list))\n",
    "    ax.set_ylabel(\"Fraction of Peak Demand\")\n",
    "\n",
    "    # fill with colors\n",
    "    colors = ['tab:blue', 'tab:orange', 'tab:green']\n",
    "    for patch, color in zip(bplot['boxes'], colors):\n",
    "        patch.set_facecolor(color)\n",
    "\n",
    "    for median in bplot['medians']:\n",
    "        median.set_color('red')\n",
    "\n",
    "    ax.yaxis.grid(True, alpha=0.2)\n",
    "    plt.show()\n"
   ]
  },
  {
   "cell_type": "code",
   "execution_count": null,
   "id": "9a362a86",
   "metadata": {},
   "outputs": [],
   "source": []
  }
 ],
 "metadata": {
  "kernelspec": {
   "display_name": "Python 3 (ipykernel)",
   "language": "python",
   "name": "python3"
  },
  "language_info": {
   "codemirror_mode": {
    "name": "ipython",
    "version": 3
   },
   "file_extension": ".py",
   "mimetype": "text/x-python",
   "name": "python",
   "nbconvert_exporter": "python",
   "pygments_lexer": "ipython3",
   "version": "3.10.0"
  }
 },
 "nbformat": 4,
 "nbformat_minor": 5
}
